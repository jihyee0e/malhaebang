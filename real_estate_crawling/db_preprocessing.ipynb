{
 "cells": [
  {
   "cell_type": "code",
   "execution_count": 16,
   "id": "fca0aad5",
   "metadata": {},
   "outputs": [],
   "source": [
    "import pandas as pd\n",
    "import warnings\n",
    "warnings.simplefilter(action='ignore', category=FutureWarning)\n",
    "warnings.simplefilter(action='ignore', category=UserWarning)\n",
    "warnings.simplefilter(action='ignore', category=pd.errors.SettingWithCopyWarning)"
   ]
  },
  {
   "cell_type": "code",
   "execution_count": 17,
   "id": "9d2c38d6",
   "metadata": {},
   "outputs": [],
   "source": [
    "import sqlite3\n",
    "import pandas as pd\n",
    "\n",
    "db_path = 'real_estate_with_grade.db'\n",
    "\n",
    "# 연결\n",
    "conn = sqlite3.connect(db_path)\n",
    "\n",
    "df_origin = pd.read_sql(\"SELECT * FROM house\", conn)\n",
    "\n",
    "conn.close()"
   ]
  },
  {
   "cell_type": "code",
   "execution_count": 18,
   "id": "a46531f0",
   "metadata": {},
   "outputs": [],
   "source": [
    "df = df_origin"
   ]
  },
  {
   "cell_type": "code",
   "execution_count": 19,
   "id": "1daf377d",
   "metadata": {},
   "outputs": [],
   "source": [
    "import pandas as pd\n",
    "import numpy as np\n",
    "import re\n",
    "\n",
    "def parse_price_column(df, col='price'):\n",
    "    def parse_price(text):\n",
    "        try:\n",
    "            text = str(text).replace(\",\", \"\").replace(\" \", \"\")\n",
    "            if \"월세\" in text or \"단기임대\" in text:\n",
    "                match = re.search(r'(?:월세|단기임대)([\\d억]+)[/\\\\](\\d+)', text)\n",
    "                if match:\n",
    "                    deposit_raw = match.group(1)\n",
    "                    if '억' in deposit_raw:\n",
    "                        parts = deposit_raw.split('억')\n",
    "                        deposit = int(parts[0]) * 10000\n",
    "                        if len(parts) > 1 and parts[1].isdigit():\n",
    "                            deposit += int(parts[1])\n",
    "                    else:\n",
    "                        deposit = int(deposit_raw)\n",
    "                    deposit *= 10000\n",
    "                    monthly = int(match.group(2))  * 10000\n",
    "                    return deposit, monthly\n",
    "            elif \"전세\" in text:\n",
    "                match = re.search(r'전세\\s*([\\d억]+)', text)\n",
    "                if match:\n",
    "                    deposit_raw = match.group(1)\n",
    "                    if '억' in deposit_raw:\n",
    "                        parts = deposit_raw.split('억')\n",
    "                        deposit = int(parts[0]) * 10000\n",
    "                        if len(parts) > 1 and parts[1].isdigit():\n",
    "                            deposit += int(parts[1])\n",
    "                    else:\n",
    "                        deposit = int(deposit_raw)\n",
    "                    deposit *= 10000\n",
    "                    return deposit, 0\n",
    "        except:\n",
    "            pass\n",
    "        return None, None\n",
    "\n",
    "    df[['deposit', 'monthly_rent']] = df[col].apply(lambda x: pd.Series(parse_price(x)))\n",
    "    return df\n",
    "\n",
    "def parse_area_column(df, col='area_size'):\n",
    "    def parse_area(area_text):\n",
    "        try:\n",
    "            # '74.31㎡/49.92㎡(전용률67%)' 또는 '-㎡/38㎡' 처리\n",
    "            matches = re.findall(r'([\\d.]+)㎡', str(area_text))\n",
    "            if len(matches) >= 1:\n",
    "                return float(matches[-1])  # 전용면적만 추출\n",
    "        except:\n",
    "            pass\n",
    "        return None\n",
    "\n",
    "    df['전용면적'] = df[col].apply(parse_area)\n",
    "    df['space'] = df['전용면적']/(3.3058)\n",
    "    return df\n",
    "\n",
    "def parse_rooms_column(df, col='rooms_count'):\n",
    "    def parse_rooms(text):\n",
    "        try:\n",
    "            rooms, baths = re.findall(r'(\\d+)', str(text))\n",
    "            return int(rooms), int(baths)\n",
    "        except:\n",
    "            return None, None\n",
    "    df[['rooms_count', 'bath_count']] = df[col].apply(lambda x: pd.Series(parse_rooms(x)))\n",
    "    return df\n",
    "\n",
    "def parse_floor_column(df, col='floor'):\n",
    "    def parse_floor(text):\n",
    "        try:\n",
    "            text = str(text).replace(\" \", \"\")\n",
    "            parts = text.split('/')\n",
    "            if len(parts) == 2:\n",
    "                층_raw = parts[0]\n",
    "                총층_match = re.search(r'(\\d+)', parts[1])\n",
    "                총층 = int(총층_match.group(1)) if 총층_match else None\n",
    "                해당층_match = re.match(r'(\\d+)', 층_raw)\n",
    "                해당층 = int(해당층_match.group(1)) if 해당층_match else None\n",
    "                return 해당층, 총층\n",
    "        except:\n",
    "            pass\n",
    "        return None, None\n",
    "    df[['floor', 'total_floor']] = df[col].apply(lambda x: pd.Series(parse_floor(x)))\n",
    "    return df\n",
    "\n",
    "### 2. 전처리 실행\n",
    "df = parse_price_column(df)\n",
    "df = parse_area_column(df)\n",
    "df = parse_rooms_column(df)\n",
    "df = parse_floor_column(df)"
   ]
  },
  {
   "cell_type": "code",
   "execution_count": 20,
   "id": "d038b6ca",
   "metadata": {},
   "outputs": [
    {
     "data": {
      "text/plain": [
       "Index(['house_id', 'title', 'price', 'address', 'floor', 'deposit_type',\n",
       "       'management_fee', 'availabe_from', 'house_num', 'agent_comm',\n",
       "       'agent_info', 'rooms_count', 'options', 'posted_at', 'gu', 'dong',\n",
       "       'img_url', 'area_size', 'direction', 'built_date', 'parking',\n",
       "       'building_type', 'house_feature', 'house_explanations', 'apt_name',\n",
       "       'safety_grade', 'deposit', 'monthly_rent', '전용면적', 'space',\n",
       "       'bath_count', 'total_floor'],\n",
       "      dtype='object')"
      ]
     },
     "execution_count": 20,
     "metadata": {},
     "output_type": "execute_result"
    }
   ],
   "source": [
    "df.columns"
   ]
  },
  {
   "cell_type": "code",
   "execution_count": 21,
   "id": "7e5212cd",
   "metadata": {},
   "outputs": [],
   "source": [
    "df['space'] = df['space'].fillna(0).round(0).astype(int)"
   ]
  },
  {
   "cell_type": "code",
   "execution_count": 22,
   "id": "cbc12a55",
   "metadata": {},
   "outputs": [],
   "source": [
    "df = df.drop(['전용면적'], axis=1)"
   ]
  },
  {
   "cell_type": "code",
   "execution_count": 23,
   "id": "6aec415b",
   "metadata": {},
   "outputs": [
    {
     "data": {
      "text/plain": [
       "Index(['house_id', 'title', 'price', 'address', 'floor', 'deposit_type',\n",
       "       'management_fee', 'availabe_from', 'house_num', 'agent_comm',\n",
       "       'agent_info', 'rooms_count', 'options', 'posted_at', 'gu', 'dong',\n",
       "       'img_url', 'area_size', 'direction', 'built_date', 'parking',\n",
       "       'building_type', 'house_feature', 'house_explanations', 'apt_name',\n",
       "       'safety_grade', 'deposit', 'monthly_rent', 'space', 'bath_count',\n",
       "       'total_floor'],\n",
       "      dtype='object')"
      ]
     },
     "execution_count": 23,
     "metadata": {},
     "output_type": "execute_result"
    }
   ],
   "source": [
    "df.columns"
   ]
  },
  {
   "cell_type": "code",
   "execution_count": 24,
   "id": "49d67dde",
   "metadata": {},
   "outputs": [
    {
     "name": "stdout",
     "output_type": "stream",
     "text": [
      "<class 'pandas.core.frame.DataFrame'>\n",
      "RangeIndex: 50840 entries, 0 to 50839\n",
      "Data columns (total 31 columns):\n",
      " #   Column              Non-Null Count  Dtype  \n",
      "---  ------              --------------  -----  \n",
      " 0   house_id            50840 non-null  int64  \n",
      " 1   title               50840 non-null  object \n",
      " 2   price               50840 non-null  object \n",
      " 3   address             50840 non-null  object \n",
      " 4   floor               35268 non-null  float64\n",
      " 5   deposit_type        50840 non-null  object \n",
      " 6   management_fee      50840 non-null  object \n",
      " 7   availabe_from       50840 non-null  object \n",
      " 8   house_num           50840 non-null  object \n",
      " 9   agent_comm          50840 non-null  object \n",
      " 10  agent_info          50840 non-null  object \n",
      " 11  rooms_count         50742 non-null  float64\n",
      " 12  options             50840 non-null  object \n",
      " 13  posted_at           50840 non-null  object \n",
      " 14  gu                  50840 non-null  object \n",
      " 15  dong                50840 non-null  object \n",
      " 16  img_url             50840 non-null  object \n",
      " 17  area_size           50840 non-null  object \n",
      " 18  direction           50840 non-null  object \n",
      " 19  built_date          50840 non-null  object \n",
      " 20  parking             50840 non-null  object \n",
      " 21  building_type       50840 non-null  object \n",
      " 22  house_feature       50840 non-null  object \n",
      " 23  house_explanations  50840 non-null  object \n",
      " 24  apt_name            50840 non-null  object \n",
      " 25  safety_grade        50038 non-null  object \n",
      " 26  deposit             50840 non-null  int64  \n",
      " 27  monthly_rent        50840 non-null  int64  \n",
      " 28  space               50840 non-null  int64  \n",
      " 29  bath_count          50742 non-null  float64\n",
      " 30  total_floor         50820 non-null  float64\n",
      "dtypes: float64(4), int64(4), object(23)\n",
      "memory usage: 12.0+ MB\n"
     ]
    }
   ],
   "source": [
    "pd.set_option('display.max_columns', None)\n",
    "df.info()"
   ]
  },
  {
   "cell_type": "code",
   "execution_count": 25,
   "id": "366efba4",
   "metadata": {},
   "outputs": [],
   "source": [
    "# management_fee, house_num, rooms_count, bath_count, floor, total_floor -> int로 변환\n",
    "# management_fee, agent_comm(00만원형태) -> (10000)숫자로 변환 후 int\n",
    "\n",
    "# parking -> boolean (1: 가능, 0: 불가능)\n",
    "\n",
    "# posted_at -> datetime\n",
    "# available_from, built_date -> datetime('정보 없음' 포함 : NULL)\n",
    "\n",
    "# gu, dong -> string"
   ]
  },
  {
   "cell_type": "code",
   "execution_count": 26,
   "id": "c432f0a7",
   "metadata": {},
   "outputs": [],
   "source": [
    "# pandas에서 컬럼명 변경\n",
    "df = df.rename(columns={'availabe_from': 'available_from'})"
   ]
  },
  {
   "cell_type": "code",
   "execution_count": 27,
   "id": "966d2cbb",
   "metadata": {},
   "outputs": [],
   "source": [
    "import numpy as np"
   ]
  },
  {
   "cell_type": "code",
   "execution_count": 28,
   "id": "9fa52db7",
   "metadata": {},
   "outputs": [],
   "source": [
    "import pandas as pd\n",
    "import numpy as np\n",
    "import re\n",
    "\n",
    "# 1. management_fee: '8만원' → 80000 / '정보 없음' → NaN\n",
    "df['management_fee'] = df['management_fee'].astype(str)\n",
    "df['management_fee'] = df['management_fee'].apply(\n",
    "    lambda x: np.nan if '정보없음' in x or '정보 없음' in x else (\n",
    "        int(re.sub(r'[^\\d]', '', x)) * 10000 if '만원' in x else pd.to_numeric(re.sub(r'[^\\d]', '', x), errors='coerce')\n",
    "    )\n",
    ")\n",
    "df['management_fee'] = pd.to_numeric(df['management_fee'], errors='coerce').astype('Int64')\n",
    "\n",
    "# 2. agent_comm: '99만원' → 990000 / '정보 없음' → NaN\n",
    "df['agent_comm'] = df['agent_comm'].astype(str)\n",
    "df['agent_comm'] = df['agent_comm'].apply(\n",
    "    lambda x: np.nan if '정보없음' in x or '정보 없음' in x else (\n",
    "        int(re.sub(r'[^\\d]', '', x)) * 10000 if '만원' in x else pd.to_numeric(re.sub(r'[^\\d]', '', x), errors='coerce')\n",
    "    )\n",
    ")\n",
    "df['agent_comm'] = pd.to_numeric(df['agent_comm'], errors='coerce').astype('Int64')\n",
    "\n",
    "# 3. 숫자형 컬럼 → Int64 (NaN 포함)\n",
    "cols_to_int = ['house_num', 'rooms_count', 'bath_count', 'floor', 'total_floor']\n",
    "for col in cols_to_int:\n",
    "    df[col] = pd.to_numeric(df[col], errors='coerce').round().astype('Int64')\n",
    "\n",
    "# 4. parking 컬럼 → boolean (1: 가능, 0: 불가능)\n",
    "df['parking'] = df['parking'].map({'가능': 1, '불가능': 0, '가능 ': 1, '불가': 0})\n",
    "df['parking'] = df['parking'].fillna(0).astype(bool)\n",
    "\n",
    "# 5. 날짜형 컬럼\n",
    "df['posted_at'] = pd.to_datetime(df['posted_at'], errors='coerce').dt.date\n",
    "df['built_date'] = df['built_date'].replace('정보 없음', np.nan)\n",
    "df['built_date'] = pd.to_datetime(df['built_date'], errors='coerce').dt.date\n",
    "\n",
    "# 6. 문자형 컬럼\n",
    "df['gu'] = df['gu'].astype(str)\n",
    "df['dong'] = df['dong'].astype(str)"
   ]
  },
  {
   "cell_type": "code",
   "execution_count": 29,
   "id": "bf26156e",
   "metadata": {},
   "outputs": [
    {
     "name": "stdout",
     "output_type": "stream",
     "text": [
      "<class 'pandas.core.frame.DataFrame'>\n",
      "RangeIndex: 50840 entries, 0 to 50839\n",
      "Data columns (total 31 columns):\n",
      " #   Column              Non-Null Count  Dtype \n",
      "---  ------              --------------  ----- \n",
      " 0   house_id            50840 non-null  int64 \n",
      " 1   title               50840 non-null  object\n",
      " 2   price               50840 non-null  object\n",
      " 3   address             50840 non-null  object\n",
      " 4   floor               35268 non-null  Int64 \n",
      " 5   deposit_type        50840 non-null  object\n",
      " 6   management_fee      41930 non-null  Int64 \n",
      " 7   available_from      50840 non-null  object\n",
      " 8   house_num           50839 non-null  Int64 \n",
      " 9   agent_comm          50673 non-null  Int64 \n",
      " 10  agent_info          50840 non-null  object\n",
      " 11  rooms_count         50742 non-null  Int64 \n",
      " 12  options             50840 non-null  object\n",
      " 13  posted_at           50840 non-null  object\n",
      " 14  gu                  50840 non-null  object\n",
      " 15  dong                50840 non-null  object\n",
      " 16  img_url             50840 non-null  object\n",
      " 17  area_size           50840 non-null  object\n",
      " 18  direction           50840 non-null  object\n",
      " 19  built_date          33114 non-null  object\n",
      " 20  parking             50840 non-null  bool  \n",
      " 21  building_type       50840 non-null  object\n",
      " 22  house_feature       50840 non-null  object\n",
      " 23  house_explanations  50840 non-null  object\n",
      " 24  apt_name            50840 non-null  object\n",
      " 25  safety_grade        50038 non-null  object\n",
      " 26  deposit             50840 non-null  int64 \n",
      " 27  monthly_rent        50840 non-null  int64 \n",
      " 28  space               50840 non-null  int64 \n",
      " 29  bath_count          50742 non-null  Int64 \n",
      " 30  total_floor         50820 non-null  Int64 \n",
      "dtypes: Int64(7), bool(1), int64(4), object(19)\n",
      "memory usage: 12.0+ MB\n"
     ]
    }
   ],
   "source": [
    "df.info()"
   ]
  },
  {
   "cell_type": "code",
   "execution_count": 30,
   "id": "abe491bd",
   "metadata": {},
   "outputs": [],
   "source": [
    "import sqlite3\n",
    "\n",
    "conn = sqlite3.connect('cleaned_real_estate.db')\n",
    "df.to_sql('house', conn, index=False, if_exists='replace')\n",
    "conn.close()"
   ]
  }
 ],
 "metadata": {
  "kernelspec": {
   "display_name": "venv",
   "language": "python",
   "name": "python3"
  },
  "language_info": {
   "codemirror_mode": {
    "name": "ipython",
    "version": 3
   },
   "file_extension": ".py",
   "mimetype": "text/x-python",
   "name": "python",
   "nbconvert_exporter": "python",
   "pygments_lexer": "ipython3",
   "version": "3.13.3"
  }
 },
 "nbformat": 4,
 "nbformat_minor": 5
}
